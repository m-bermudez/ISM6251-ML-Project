{
 "cells": [
  {
   "metadata": {},
   "cell_type": "markdown",
   "source": "# Human Resources Attrition and Performance Analytics",
   "id": "d58b897b0f310bbf"
  },
  {
   "metadata": {},
   "cell_type": "markdown",
   "source": "## 1. Importing necessary libraries",
   "id": "6ad71fb7e295b89"
  },
  {
   "metadata": {},
   "cell_type": "code",
   "outputs": [],
   "execution_count": null,
   "source": [
    "# Importing libraries\n",
    "import numpy as np\n",
    "import pandas as pd\n",
    "import matplotlib.pyplot as plt\n",
    "import seaborn as sns\n",
    "from sklearn.preprocessing import StandardScaler\n",
    "from sklearn.model_selection import train_test_split\n",
    "from sklearn.metrics import accuracy_score\n",
    "from sklearn.metrics import confusion_matrix\n",
    "from sklearn.tree import DecisionTreeClassifier\n",
    "from sklearn.svm import SVC\n",
    "from sklearn.ensemble import RandomForestClassifier, GradientBoostingClassifier\n",
    "from sklearn.ensemble import RandomForestRegressor\n",
    "from sklearn.neighbors import KNeighborsClassifier\n",
    "from sklearn.preprocessing import LabelEncoder\n",
    "from sklearn.tree import DecisionTreeRegressor\n",
    "from sklearn.neighbors import KNeighborsRegressor\n",
    "from sklearn.ensemble import RandomForestRegressor, GradientBoostingRegressor\n",
    "from sklearn.metrics import r2_score, classification_report\n",
    "from sklearn.metrics import mean_squared_error\n",
    "from sklearn.metrics import f1_score"
   ],
   "id": "d563c833f59e5406"
  },
  {
   "metadata": {},
   "cell_type": "markdown",
   "source": "## 2. Importing data",
   "id": "5a72236725375d69"
  },
  {
   "metadata": {},
   "cell_type": "code",
   "outputs": [],
   "execution_count": null,
   "source": [
    "url = 'https://raw.githubusercontent.com/m-bermudez/ISM6251-ML-Project/refs/heads/main/EmployeeAttrition.csv'\n",
    "df = pd.read_csv(url)\n",
    "df.head()"
   ],
   "id": "f13f2915f5d2812b"
  },
  {
   "metadata": {},
   "cell_type": "markdown",
   "source": "## 3. Re-factoring the data",
   "id": "3e9f3463a1783762"
  },
  {
   "metadata": {},
   "cell_type": "code",
   "outputs": [],
   "execution_count": null,
   "source": [
    "type_map = {\n",
    "    'object': 'category'\n",
    "}\n",
    "for column in df.columns:\n",
    "    original_data_type = df[column].dtype.name\n",
    "    if original_data_type in type_map:\n",
    "        df[column] = df[column].astype(type_map[original_data_type])"
   ],
   "id": "2a7b4d0fb634f124"
  },
  {
   "metadata": {},
   "cell_type": "markdown",
   "source": "## 4. Data Exploration",
   "id": "93abf7cc73e74d11"
  },
  {
   "metadata": {},
   "cell_type": "code",
   "outputs": [],
   "execution_count": null,
   "source": "df.info()",
   "id": "f9b9d8e78016e21f"
  },
  {
   "metadata": {},
   "cell_type": "code",
   "outputs": [],
   "execution_count": null,
   "source": "df.describe()",
   "id": "808ff1016f1c398"
  },
  {
   "metadata": {},
   "cell_type": "code",
   "outputs": [],
   "execution_count": null,
   "source": "df.isnull().sum()",
   "id": "54bddf482ead7ce3"
  },
  {
   "metadata": {},
   "cell_type": "markdown",
   "source": "### Data Visualization",
   "id": "a3a3691ae37ca820"
  },
  {
   "metadata": {},
   "cell_type": "code",
   "outputs": [],
   "execution_count": null,
   "source": "sns.set_palette(\"viridis\")",
   "id": "416d895db0d2c59f"
  },
  {
   "metadata": {},
   "cell_type": "code",
   "outputs": [],
   "execution_count": null,
   "source": [
    "plt.figure(figsize=(8, 5))\n",
    "sns.countplot(data=df, x='Gender', hue='Attrition')\n",
    "plt.title('Attrition by Gender')\n",
    "plt.xlabel('Gender')\n",
    "plt.ylabel('Count')\n",
    "plt.show()"
   ],
   "id": "874fe73985adff2"
  },
  {
   "metadata": {},
   "cell_type": "code",
   "outputs": [],
   "execution_count": null,
   "source": [
    "plt.figure(figsize=(8, 5))\n",
    "sns.countplot(data=df, x='MaritalStatus', hue='Attrition')\n",
    "plt.title('Attrition by Marital Status')\n",
    "plt.xlabel('Marital Status')\n",
    "plt.ylabel('Count')\n",
    "plt.show()"
   ],
   "id": "d1eda4c87e863a09"
  },
  {
   "metadata": {},
   "cell_type": "code",
   "outputs": [],
   "execution_count": null,
   "source": [
    "plt.figure(figsize=(8, 5))\n",
    "sns.countplot(data=df, x='BusinessTravel', hue='Attrition')\n",
    "plt.title('Attrition by Business Travel')\n",
    "plt.xlabel('Business Travel')\n",
    "plt.ylabel('Count')\n",
    "plt.show()"
   ],
   "id": "80b9eb69288be97c"
  },
  {
   "metadata": {},
   "cell_type": "code",
   "outputs": [],
   "execution_count": null,
   "source": [
    "plt.figure(figsize=(8, 5))\n",
    "sns.countplot(data=df, x='Department', hue='Attrition')\n",
    "plt.title('Attrition by Department')\n",
    "plt.xlabel('Department')\n",
    "plt.ylabel('Count')\n",
    "plt.show()"
   ],
   "id": "c5bb68888d248c68"
  },
  {
   "metadata": {},
   "cell_type": "code",
   "outputs": [],
   "execution_count": null,
   "source": [
    "plt.figure(figsize=(8, 5))\n",
    "sns.boxplot(data=df, x='Attrition', y='Age', palette='viridis')\n",
    "plt.title('Age Distribution by Attrition')\n",
    "plt.xlabel('Attrition')\n",
    "plt.ylabel('Age')\n",
    "plt.show()"
   ],
   "id": "577813a61cf78c35"
  },
  {
   "metadata": {},
   "cell_type": "code",
   "outputs": [],
   "execution_count": null,
   "source": [
    "plt.figure(figsize=(8, 5))\n",
    "sns.violinplot(data=df, x='Attrition', y='MonthlyIncome', palette='viridis')\n",
    "plt.title('Monthly Income Distribution by Attrition')\n",
    "plt.xlabel('Attrition')\n",
    "plt.ylabel('Monthly Income')\n",
    "plt.show()"
   ],
   "id": "804c17768d5d3f72"
  },
  {
   "metadata": {},
   "cell_type": "code",
   "outputs": [],
   "execution_count": null,
   "source": [
    "plt.figure(figsize=(8, 5))\n",
    "sns.swarmplot(data=df, x='Attrition', y='DistanceFromHome', palette='viridis')\n",
    "plt.title('Distance from Home by Attrition')\n",
    "plt.xlabel('Attrition')\n",
    "plt.ylabel('Distance from Home')\n",
    "plt.show()"
   ],
   "id": "d2c9cdc21585985a"
  },
  {
   "metadata": {},
   "cell_type": "code",
   "outputs": [],
   "execution_count": null,
   "source": [
    "plt.figure(figsize=(8, 5))\n",
    "sns.stripplot(data=df, x='Attrition', y='YearsAtCompany', palette='viridis', jitter=True)\n",
    "plt.title('Years at Company by Attrition')\n",
    "plt.xlabel('Attrition')\n",
    "plt.ylabel('Years at Company')\n",
    "plt.show()"
   ],
   "id": "7d92007bad0859f1"
  },
  {
   "metadata": {},
   "cell_type": "code",
   "outputs": [],
   "execution_count": null,
   "source": [
    "plt.figure(figsize=(8, 5))\n",
    "sns.barplot(data=df, x='Attrition', y='JobSatisfaction', palette='viridis', ci=None)\n",
    "plt.title('Average Job Satisfaction by Attrition')\n",
    "plt.xlabel('Attrition')\n",
    "plt.ylabel('Average Job Satisfaction')\n",
    "plt.show()"
   ],
   "id": "c72c561296559"
  },
  {
   "metadata": {},
   "cell_type": "code",
   "outputs": [],
   "execution_count": null,
   "source": [
    "plt.figure(figsize=(8, 5))\n",
    "sns.boxplot(data=df, x='Attrition', y='TotalWorkingYears', palette='viridis')\n",
    "plt.title('Total Working Years by Attrition')\n",
    "plt.xlabel('Attrition')\n",
    "plt.ylabel('Total Working Years')\n",
    "plt.show()"
   ],
   "id": "c3d9465c6df02901"
  },
  {
   "metadata": {},
   "cell_type": "markdown",
   "source": "## 5. Encoding Data",
   "id": "1da110b0144f0c61"
  },
  {
   "metadata": {},
   "cell_type": "code",
   "outputs": [],
   "execution_count": null,
   "source": [
    "categorical_cols = df.select_dtypes(include=['category']).columns\n",
    "label_encoders = {}\n",
    "\n",
    "print(\"Encoding Guide:\")\n",
    "print(\"-\" * 50)\n",
    "\n",
    "for col in categorical_cols:\n",
    "    le = LabelEncoder()\n",
    "    df[col] = le.fit_transform(df[col])\n",
    "    label_encoders[col] = le\n",
    "\n",
    "    mapping = {index: label for index, label in enumerate(le.classes_)}\n",
    "    print(f\"Column: {col}\")\n",
    "    for original, encoded in mapping.items():\n",
    "        print(f\"  {encoded} -> {original}\")\n",
    "    print(\"-\" * 50)"
   ],
   "id": "119f422e394f2cc8"
  },
  {
   "metadata": {},
   "cell_type": "code",
   "outputs": [],
   "execution_count": null,
   "source": "df.drop(columns=['EmployeeNumber', 'Over18'], inplace=True)",
   "id": "c328a500dc4f5d52"
  },
  {
   "metadata": {},
   "cell_type": "code",
   "outputs": [],
   "execution_count": null,
   "source": [
    "plt.figure(figsize=(20, 20))\n",
    "corr_matrix = df.corr()\n",
    "sns.heatmap(corr_matrix, annot=True, fmt=\".2f\", cmap=\"RdBu\")\n",
    "plt.title('Correlation Matrix')\n",
    "plt.show()"
   ],
   "id": "7266175f08e9e6dd"
  },
  {
   "metadata": {},
   "cell_type": "markdown",
   "source": "### Data Normalization",
   "id": "ec648a32a7ae3b58"
  },
  {
   "metadata": {},
   "cell_type": "code",
   "outputs": [],
   "execution_count": null,
   "source": [
    "scaler = StandardScaler()\n",
    "num_cols = df.select_dtypes(include=['int64']).columns\n",
    "df[num_cols] = scaler.fit_transform(df[num_cols])"
   ],
   "id": "38d18ff01145ba14"
  },
  {
   "metadata": {},
   "cell_type": "markdown",
   "source": "### Train-Split Data",
   "id": "1b3a3cb61b731443"
  },
  {
   "metadata": {},
   "cell_type": "code",
   "outputs": [],
   "execution_count": null,
   "source": [
    "X = df.drop('Attrition', axis=1)\n",
    "y = df['Attrition']\n",
    "\n",
    "X_train, X_test, y_train, y_test = train_test_split(X, y, test_size=0.2, random_state=42)"
   ],
   "id": "5761c3acd8cfb15d"
  },
  {
   "metadata": {},
   "cell_type": "markdown",
   "source": "### Feature Importance - Regression Model",
   "id": "110cb4d0161e4586"
  },
  {
   "metadata": {},
   "cell_type": "code",
   "outputs": [],
   "execution_count": null,
   "source": [
    "plt.figure(figsize=(15, 10))\n",
    "rf = RandomForestRegressor(random_state=42)\n",
    "rf.fit(X_train, y_train)\n",
    "importances = rf.feature_importances_\n",
    "\n",
    "importance_df = pd.DataFrame({'Feature': X.columns, 'Importance': importances})\n",
    "importance_df.sort_values(by='Importance', ascending=False, inplace=True)\n",
    "sns.barplot(data=importance_df, x='Importance', y='Feature', palette='viridis')\n",
    "plt.title('Feature Importance')\n",
    "plt.show()"
   ],
   "id": "2c8f64bf613611b0"
  },
  {
   "metadata": {},
   "cell_type": "code",
   "outputs": [],
   "execution_count": null,
   "source": [
    "threshold = 0.01\n",
    "\n",
    "important_features = importance_df[importance_df['Importance'] > threshold]['Feature']\n",
    "print(f\"Selected features: {important_features.tolist()}\")\n",
    "\n",
    "X_train_reduced = X_train[important_features]\n",
    "X_test_reduced = X_test[important_features]\n",
    "\n",
    "print(f\"Original feature count: {X_train.shape[1]}\")\n",
    "print(f\"Reduced feature count: {X_train_reduced.shape[1]}\")"
   ],
   "id": "bbc916c04181e499"
  },
  {
   "metadata": {},
   "cell_type": "code",
   "outputs": [],
   "execution_count": null,
   "source": [
    "plt.figure(figsize=(15, 10))\n",
    "sns.barplot(\n",
    "    data=importance_df[importance_df['Importance'] > threshold],\n",
    "    x='Importance',\n",
    "    y='Feature',\n",
    "    palette='viridis'\n",
    ")\n",
    "plt.title('Remaining Feature Importances After Threshold Selection')\n",
    "plt.xlabel('Importance')\n",
    "plt.ylabel('Feature')\n",
    "plt.tight_layout()\n",
    "plt.show()"
   ],
   "id": "4d0a93b5795c3a02"
  },
  {
   "metadata": {},
   "cell_type": "code",
   "outputs": [],
   "execution_count": null,
   "source": [
    "threshold = y_train.median()\n",
    "y_train_class = np.where(y_train > threshold, 1, 0)\n",
    "y_test_class = np.where(y_test > threshold, 1, 0)\n",
    "\n",
    "models = {\n",
    "    'Decision Tree': DecisionTreeClassifier(),\n",
    "    'KNN': KNeighborsClassifier(),\n",
    "    'Random Forest': RandomForestClassifier(),\n",
    "    'Gradient Boosting': GradientBoostingClassifier()\n",
    "}\n",
    "\n",
    "results = {}\n",
    "\n",
    "for name, model in models.items():\n",
    "    model.fit(X_train, y_train_class)\n",
    "    y_pred = model.predict(X_test)\n",
    "    accuracy = accuracy_score(y_test_class, y_pred)\n",
    "    results[name] = accuracy\n",
    "    print(f\"{name} Accuracy: {accuracy:.2f}\")\n",
    "    print(f\"{name} Classification Report:\")\n",
    "    print(classification_report(y_test_class, y_pred))\n",
    "    print(f\"{name} Confusion Matrix:\")\n",
    "    print(confusion_matrix(y_test_class, y_pred))\n",
    "    print()\n",
    "\n",
    "#This cell is the classifier cell :)"
   ],
   "id": "3cd41eb90c88be9a"
  },
  {
   "metadata": {},
   "cell_type": "markdown",
   "source": "### Results Visualization",
   "id": "ed01b270e6f29a7f"
  },
  {
   "metadata": {},
   "cell_type": "code",
   "outputs": [],
   "execution_count": null,
   "source": [
    "import matplotlib.pyplot as plt\n",
    "import seaborn as sns\n",
    "\n",
    "results_df = pd.DataFrame(list(results.items()), columns=['Model', 'Accuracy'])\n",
    "\n",
    "plt.figure(figsize=(10, 6))\n",
    "sns.barplot(x='Model', y='Accuracy', data=results_df, palette='viridis')\n",
    "plt.title('Model Accuracy Comparison')\n",
    "plt.xlabel('Model')\n",
    "plt.ylabel('Accuracy')\n",
    "plt.ylim(0, 1)\n",
    "plt.xticks(rotation=45, ha='right')\n",
    "plt.tight_layout()\n",
    "plt.show()"
   ],
   "id": "243b7290068b189a"
  },
  {
   "metadata": {},
   "cell_type": "code",
   "outputs": [],
   "execution_count": null,
   "source": [
    "import matplotlib.pyplot as plt\n",
    "import seaborn as sns\n",
    "from sklearn.metrics import precision_score\n",
    "\n",
    "\n",
    "precision_results = {}\n",
    "\n",
    "for name, model in models.items():\n",
    "    y_pred = model.predict(X_test)\n",
    "    precision = precision_score(y_test_class, y_pred)\n",
    "    precision_results[name] = precision\n",
    "\n",
    "precision_df = pd.DataFrame(list(precision_results.items()), columns=['Model', 'Precision'])\n",
    "\n",
    "plt.figure(figsize=(10, 6))\n",
    "sns.barplot(x='Model', y='Precision', data=precision_df, palette='viridis')\n",
    "plt.title('Model Precision Comparison')\n",
    "plt.xlabel('Model')\n",
    "plt.ylabel('Precision')\n",
    "plt.ylim(0, 1)\n",
    "plt.xticks(rotation=45, ha='right')\n",
    "plt.tight_layout()\n",
    "plt.show()"
   ],
   "id": "de1ba48a6d6122c7"
  },
  {
   "metadata": {},
   "cell_type": "code",
   "outputs": [],
   "execution_count": null,
   "source": [
    "import matplotlib.pyplot as plt\n",
    "import seaborn as sns\n",
    "from sklearn.metrics import recall_score\n",
    "\n",
    "recall_results = {}\n",
    "\n",
    "for name, model in models.items():\n",
    "    y_pred = model.predict(X_test)\n",
    "    recall = recall_score(y_test_class, y_pred)\n",
    "    recall_results[name] = recall\n",
    "\n",
    "recall_df = pd.DataFrame(list(recall_results.items()), columns=['Model', 'Recall'])\n",
    "\n",
    "plt.figure(figsize=(10, 6))\n",
    "sns.barplot(x='Model', y='Recall', data=recall_df, palette='viridis')\n",
    "plt.title('Model Recall Comparison')\n",
    "plt.xlabel('Model')\n",
    "plt.ylabel('Recall')\n",
    "plt.ylim(0, 1)\n",
    "plt.xticks(rotation=45, ha='right')\n",
    "plt.tight_layout()\n",
    "plt.show()"
   ],
   "id": "8b9d5ac55f88b490"
  },
  {
   "metadata": {},
   "cell_type": "code",
   "outputs": [],
   "execution_count": null,
   "source": [
    "f1_results = {}\n",
    "\n",
    "for name, model in models.items():\n",
    "    y_pred = model.predict(X_test)\n",
    "    f1 = f1_score(y_test_class, y_pred)\n",
    "    f1_results[name] = f1\n",
    "\n",
    "f1_df = pd.DataFrame(list(f1_results.items()), columns=['Model', 'F1-Score'])\n",
    "\n",
    "plt.figure(figsize=(10, 6))\n",
    "sns.barplot(x='Model', y='F1-Score', data=f1_df, palette='viridis')\n",
    "plt.title('Model F1-Score Comparison')\n",
    "plt.xlabel('Model')\n",
    "plt.ylabel('F1-Score')\n",
    "plt.ylim(0, 1)\n",
    "plt.xticks(rotation=45, ha='right')\n",
    "plt.tight_layout()\n",
    "plt.show()"
   ],
   "id": "f85dc64476bb9de3"
  },
  {
   "metadata": {},
   "cell_type": "markdown",
   "source": [
    "## Recommended Model: Gradient Boosting\n",
    "### Reasoning:\n",
    "\n",
    "Our business problem revolves around identifying employees likely to leave (Class 1), Gradient Boosting offers the following:\n",
    "\n",
    "**Precision (71%):**  Among the highest compared to other models, meaning it reduces false positives.\n",
    "\n",
    "**Recall (31%):** While still low, it is higher than Decision Tree (26%), KNN (3%), and Random Forest (8%).\n",
    "\n",
    "**F1-Score (43%):** Indicates a better balance between precision and recall for Class 1 than the other models.\n",
    "\n",
    "**Accuracy(89%):**\n",
    "Gradient Boosting achieves the highest overall accuracy at 89%, outperforming all other models in predicting employee attrition.\n",
    "\n",
    "**Confusion Matrix:**\n",
    "\n",
    "Gradient Boosting correctly predicts the majority of Class 0 (non-attrition) cases (250/255) while identifying more Class 1 cases (12/39) compared to other models.\n",
    "\n",
    "###Comparison with Other Models:\n",
    "\n",
    "**Decision Tree:**\n",
    "Performs decently overall but has poor recall for Class 1 (26%) and a lower F1-score (25%), indicating it's less reliable for attrition predictions.\n",
    "\n",
    "**KNN:** High overall accuracy (86%) but extremely poor recall for Class 1 (3%), making it almost useless for identifying employees likely to leave.\n",
    "\n",
    "**Random Forest:**\n",
    "Similar accuracy to Gradient Boosting (87%) but fails to identify Class 1 effectively, with a low recall (8%) and F1-score (14%).\n",
    "\n",
    "Conclusion:\n",
    "Gradient Boosting is recommended due to its:\n",
    "Highest accuracy.\n",
    "Balanced precision and recall for attrition cases.\n",
    "Stronger overall performance in predicting employee retention outcomes.\n",
    "\n",
    "### Business Impact:\n",
    "\n",
    "The model with the best balance between identifying true attrition cases and minimizing false positives/negatives is crucial for designing effective retention strategies. Gradient Boosting strikes this balance better than the others. It does so through having the highest accuracy, a balanced precision and recall and stronger overall performance in predicting employee retention outcomes."
   ],
   "id": "e2e737aec22336d9"
  }
 ],
 "metadata": {
  "kernelspec": {
   "display_name": "Python 3",
   "language": "python",
   "name": "python3"
  },
  "language_info": {
   "codemirror_mode": {
    "name": "ipython",
    "version": 2
   },
   "file_extension": ".py",
   "mimetype": "text/x-python",
   "name": "python",
   "nbconvert_exporter": "python",
   "pygments_lexer": "ipython2",
   "version": "2.7.6"
  }
 },
 "nbformat": 4,
 "nbformat_minor": 5
}
