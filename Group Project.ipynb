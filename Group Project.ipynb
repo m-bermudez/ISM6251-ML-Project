{
 "cells": [
  {
   "metadata": {},
   "cell_type": "markdown",
   "source": "# Human Resources Attrition and Performance Analytics",
   "id": "5d340f86c2080c6e"
  },
  {
   "metadata": {},
   "cell_type": "markdown",
   "source": "## 1. Importing necessary libraries",
   "id": "528501759fa76202"
  },
  {
   "metadata": {},
   "cell_type": "code",
   "outputs": [],
   "execution_count": null,
   "source": [
    "# Importing libraries\n",
    "import numpy as np\n",
    "import pandas as pd\n",
    "import matplotlib.pyplot as plt\n",
    "import seaborn as sns\n",
    "import plotly.express as px\n",
    "import plotly.graph_objects as go\n",
    "from plotly.subplots import make_subplots\n",
    "from sklearn.preprocessing import StandardScaler\n",
    "from sklearn.model_selection import train_test_split\n",
    "from sklearn.metrics import accuracy_score\n",
    "from sklearn.metrics import confusion_matrix\n",
    "from sklearn.linear_model import LogisticRegression\n",
    "from sklearn.tree import DecisionTreeClassifier\n",
    "from sklearn.svm import SVC\n",
    "from sklearn.ensemble import RandomForestClassifier\n",
    "from sklearn.neighbors import KNeighborsClassifier"
   ],
   "id": "4f88efc87f02ceb6"
  },
  {
   "metadata": {},
   "cell_type": "markdown",
   "source": "## 2. Importing data",
   "id": "bc4c5e5a18f0d72c"
  },
  {
   "metadata": {},
   "cell_type": "code",
   "outputs": [],
   "execution_count": null,
   "source": [
    "url = 'https://raw.githubusercontent.com/m-bermudez/ISM6251-ML-Project/refs/heads/main/EmployeeAttrition.csv'\n",
    "df = pd.read_csv(url)\n",
    "df.head()"
   ],
   "id": "ec579373ebbcd50f"
  },
  {
   "metadata": {},
   "cell_type": "markdown",
   "source": "## 3. Re-factoring the data",
   "id": "52870ec2dde52fc1"
  },
  {
   "metadata": {},
   "cell_type": "code",
   "outputs": [],
   "execution_count": null,
   "source": [
    "type_map = {\n",
    "    'object': 'category'\n",
    "}\n",
    "for column in df.columns:\n",
    "    original_data_type = df[column].dtype.name\n",
    "    if original_data_type in type_map:\n",
    "        df[column] = df[column].astype(type_map[original_data_type])"
   ],
   "id": "5553b8a503d50bf7"
  }
 ],
 "metadata": {
  "kernelspec": {
   "display_name": "Python 3",
   "language": "python",
   "name": "python3"
  },
  "language_info": {
   "codemirror_mode": {
    "name": "ipython",
    "version": 2
   },
   "file_extension": ".py",
   "mimetype": "text/x-python",
   "name": "python",
   "nbconvert_exporter": "python",
   "pygments_lexer": "ipython2",
   "version": "2.7.6"
  }
 },
 "nbformat": 4,
 "nbformat_minor": 5
}
